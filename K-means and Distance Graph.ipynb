{
 "cells": [
  {
   "cell_type": "markdown",
   "metadata": {},
   "source": [
    "## K-means clustering and distance graph creation"
   ]
  },
  {
   "cell_type": "code",
   "execution_count": 28,
   "metadata": {
    "collapsed": true
   },
   "outputs": [],
   "source": [
    "import csv\n",
    "import numpy as np\n",
    "import pandas as pd\n",
    "import scipy as sp\n",
    "from sklearn.cluster import KMeans\n",
    "import matplotlib.pyplot as plt \n",
    "%matplotlib inline"
   ]
  },
  {
   "cell_type": "code",
   "execution_count": 29,
   "metadata": {
    "collapsed": true
   },
   "outputs": [],
   "source": [
    "def read_data(filename):\n",
    "    with open(filename, 'rB') as csvf:\n",
    "        return [row for row in csv.reader(csvf)]\n",
    "\n",
    "def get_cluster(title):\n",
    "    return clusterIdOfSong[title]"
   ]
  },
  {
   "cell_type": "code",
   "execution_count": 34,
   "metadata": {
    "collapsed": false
   },
   "outputs": [],
   "source": [
    "X = read_data(\"songbysongtransprob.csv\")\n",
    "Y = []\n",
    "for song in X:\n",
    "    Y.append(song[0].replace('\"','').replace(\"'\",''))\n",
    "    song.pop(0)"
   ]
  },
  {
   "cell_type": "code",
   "execution_count": 36,
   "metadata": {
    "collapsed": false
   },
   "outputs": [
    {
     "name": "stdout",
     "output_type": "stream",
     "text": [
      "(730, 144)\n"
     ]
    }
   ],
   "source": [
    "X_mat = np.array(X, dtype = np.float)\n",
    "print X_mat.shape"
   ]
  },
  {
   "cell_type": "code",
   "execution_count": 38,
   "metadata": {
    "collapsed": false
   },
   "outputs": [
    {
     "data": {
      "text/plain": [
       "KMeans(copy_x=True, init='k-means++', max_iter=300, n_clusters=6,\n",
       "    n_init=10000, n_jobs=1, precompute_distances='auto', random_state=42,\n",
       "    tol=0.0001, verbose=0)"
      ]
     },
     "execution_count": 38,
     "metadata": {},
     "output_type": "execute_result"
    }
   ],
   "source": [
    "\"\"\"6 Cluster K-Means Analysis\"\"\"\n",
    "K = 6 #number of clusters\n",
    "km = KMeans(n_clusters = K, n_init = 10000, random_state = 42)\n",
    "km.fit(X_mat)  "
   ]
  },
  {
   "cell_type": "code",
   "execution_count": 9,
   "metadata": {
    "collapsed": true
   },
   "outputs": [],
   "source": [
    "# Add center clusters to X, Y so that we can visualize them on the graph\n",
    "Y = Y + ['CLUSTER0', 'CLUSTER1','CLUSTER2','CLUSTER3','CLUSTER4','CLUSTER5']\n",
    "X =  np.concatenate((X_mat,km.cluster_centers_), axis = 0)\n",
    "\n",
    "# Define dictionary of song names and song indices\n",
    "song_dict = dict()\n",
    "for i in range(0, len(Y)):\n",
    "    song_dict[Y] = X[i]\n",
    "    \n",
    "song_index = dict()\n",
    "for i in range(0, len(Y)):\n",
    "    song_index[Y[i]] = i\n",
    "    \n",
    "song_index['CLUSTER0'] = i+1\n",
    "song_index['CLUSTER1'] = i+2\n",
    "song_index['CLUSTER2'] = i+3\n",
    "song_index['CLUSTER3'] = i+4\n",
    "song_index['CLUSTER4'] = i+5\n",
    "song_index['CLUSTER5'] = i+6"
   ]
  },
  {
   "cell_type": "code",
   "execution_count": 10,
   "metadata": {
    "collapsed": false
   },
   "outputs": [
    {
     "name": "stdout",
     "output_type": "stream",
     "text": [
      "Number of pairs: 270480\n"
     ]
    }
   ],
   "source": [
    "# Compute distances between every two songs\n",
    "import itertools\n",
    "from scipy.spatial import distance\n",
    "\n",
    "pairs_cosine = dict()\n",
    "pairs_euclidean = dict()\n",
    "\n",
    "counter = 0\n",
    "for song_pair in itertools.combinations(Y, 2):\n",
    "    pairs_cosine[song_pair] = distance.cosine(song_dict[song_pair[0]],song_dict[song_pair[1]])\n",
    "    pairs_euclidean[song_pair] = distance.euclidean(song_dict[song_pair[0]],song_dict[song_pair[1]])\n",
    "    counter += 1\n",
    "print 'Number of pairs: ' + str(counter)"
   ]
  },
  {
   "cell_type": "code",
   "execution_count": 63,
   "metadata": {
    "collapsed": false
   },
   "outputs": [],
   "source": [
    "#Normalize euclidean distances to 0-1 range\n",
    "max_dist = max(pairs_euclidean.values())\n",
    "min_dist = min(pairs_euclidean.values())\n",
    "\n",
    "def min_max_scaler(x, min_, max_):\n",
    "    return (x-min_)/(max_-min_)"
   ]
  },
  {
   "cell_type": "code",
   "execution_count": 64,
   "metadata": {
    "collapsed": true
   },
   "outputs": [],
   "source": [
    "# Filter out NaN distances and scale to range 0-1 (only needed with Euclidean distance)\n",
    "import math\n",
    "graph_cosine = pairs_cosine.items()\n",
    "graph_cosine = [i for i in graph_cosine if math.isnan(i[1]) == False]\n",
    "graph_euclidean = pairs_euclidean.items()\n",
    "graph_euclidean = [(i[0], min_max_scaler(i[1], min_dist, max_dist)) for i in graph_euclidean if math.isnan(i[1]) == False]"
   ]
  },
  {
   "cell_type": "code",
   "execution_count": 66,
   "metadata": {
    "collapsed": false
   },
   "outputs": [
    {
     "data": {
      "image/png": "[encoded data removed]",
      "text/plain": [
       "<matplotlib.figure.Figure at 0x116860f90>"
      ]
     },
     "metadata": {},
     "output_type": "display_data"
    },
    {
     "data": {
      "image/png": "[encoded data removed]",
      "text/plain": [
       "<matplotlib.figure.Figure at 0x11644f990>"
      ]
     },
     "metadata": {},
     "output_type": "display_data"
    }
   ],
   "source": [
    "# Plot distribution of distances\n",
    "plt.figure(figsize=(10,5))\n",
    "plt.ylabel('Number of distance pairs')\n",
    "plt.xlabel('Distance')\n",
    "plt.title('Histogram of cosine distance pairs')\n",
    "plt.hist([i[1] for i in graph_cosine], bins = 50, color = 'green')\n",
    "plt.show()\n",
    "\n",
    "plt.figure(figsize=(10,5))\n",
    "plt.ylabel('Number of distance pairs')\n",
    "plt.xlabel('Distance')\n",
    "plt.title('Histogram of euclidean distance pairs')\n",
    "plt.hist([i[1] for i in graph_euclidean], bins = 50, color = 'green')\n",
    "plt.show()"
   ]
  },
  {
   "cell_type": "code",
   "execution_count": 67,
   "metadata": {
    "collapsed": true
   },
   "outputs": [],
   "source": [
    "# Manually create JSON file\n",
    "json_links = '''\"links\": [''' + '\\n'\n",
    "for song_pair, dist in graph_cosine:\n",
    "    if dist < 0.9:\n",
    "        json_links += '\\t' + '''{\"source\": ''' + str(song_index[song_pair[0]]) + ''', \"target\": ''' + str(song_index[song_pair[1]]) + ''', \"value\": ''' + str(dist) + '''},''' + '\\n' \n",
    "json_links = json_links[:-2] + '\\n'+ ''']'''\n",
    "\n",
    "json_string = '''{''' + json_nodes + ''',''' + json_links + '''}'''\n",
    "\n",
    "text_file = open(\"graph_cosine.json\", \"w\")\n",
    "text_file.write(json_string)\n",
    "text_file.close()"
   ]
  },
  {
   "cell_type": "code",
   "execution_count": 68,
   "metadata": {
    "collapsed": true
   },
   "outputs": [],
   "source": [
    "# Manually create JSON file\n",
    "json_links = '''\"links\": [''' + '\\n'\n",
    "for song_pair, dist in graph_euclidean:\n",
    "    if dist < 0.9:\n",
    "        json_links += '\\t' + '''{\"source\": ''' + str(song_index[song_pair[0]]) + ''', \"target\": ''' + str(song_index[song_pair[1]]) + ''', \"value\": ''' + str(dist) + '''},''' + '\\n' \n",
    "json_links = json_links[:-2] + '\\n'+ ''']'''\n",
    "\n",
    "json_string = '''{''' + json_nodes + ''',''' + json_links + '''}'''\n",
    "\n",
    "text_file = open(\"graph_euclidean.json\", \"w\")\n",
    "text_file.write(json_string)\n",
    "text_file.close()"
   ]
  }
 ],
 "metadata": {
  "kernelspec": {
   "display_name": "Python 2",
   "language": "python",
   "name": "python2"
  },
  "language_info": {
   "codemirror_mode": {
    "name": "ipython",
    "version": 2
   },
   "file_extension": ".py",
   "mimetype": "text/x-python",
   "name": "python",
   "nbconvert_exporter": "python",
   "pygments_lexer": "ipython2",
   "version": "2.7.11"
  }
 },
 "nbformat": 4,
 "nbformat_minor": 0
}
